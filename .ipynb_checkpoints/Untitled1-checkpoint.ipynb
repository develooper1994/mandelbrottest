{
 "cells": [
  {
   "cell_type": "code",
   "execution_count": 29,
   "metadata": {},
   "outputs": [
    {
     "ename": "SyntaxError",
     "evalue": "invalid syntax (<ipython-input-29-0852398b18e1>, line 3)",
     "output_type": "error",
     "traceback": [
      "\u001b[1;36m  File \u001b[1;32m\"<ipython-input-29-0852398b18e1>\"\u001b[1;36m, line \u001b[1;32m3\u001b[0m\n\u001b[1;33m    sc=lambda(video,minStart,secStart,minEnd,secEND):video.subclip(60*minStart+secStart,60*minEnd+secEND)\u001b[0m\n\u001b[1;37m             ^\u001b[0m\n\u001b[1;31mSyntaxError\u001b[0m\u001b[1;31m:\u001b[0m invalid syntax\n"
     ]
    }
   ],
   "source": [
    "from moviepy.editor import *\n",
    "video = VideoFileClip(r\"C:\\Users\\selcu\\Videos\\ROBOTİK VE GÖMÜLÜ SİSTEMLER\\arkaplan.mkv\").volumex(0)\n",
    "def sc(video,minStart,secStart,minEnd,secEND):video.subclip(60*minStart+secStart,60*minEnd+secEND)"
   ]
  },
  {
   "cell_type": "code",
   "execution_count": null,
   "metadata": {},
   "outputs": [],
   "source": [
    "clip1=sc(video,0,0,0,51)\n",
    "clip1.write_videofile(\"clip1.mkv\",codec='libx265')\n",
    "clip1.ipython_display(witdh=280)"
   ]
  },
  {
   "cell_type": "code",
   "execution_count": null,
   "metadata": {
    "collapsed": true
   },
   "outputs": [],
   "source": [
    "#clip2=video.subclip(60*6+57,60*8+36)\n",
    "clip2=sc(video,6,57,8,36)\n",
    "clip2.write_videofile(\"clip2.mkv\",codec='libx264')\n",
    "#clip2.ipython_display(witdh=280)"
   ]
  },
  {
   "cell_type": "code",
   "execution_count": null,
   "metadata": {
    "collapsed": true
   },
   "outputs": [],
   "source": []
  },
  {
   "cell_type": "code",
   "execution_count": null,
   "metadata": {},
   "outputs": [],
   "source": []
  }
 ],
 "metadata": {
  "kernelspec": {
   "display_name": "Python 3",
   "language": "python",
   "name": "python3"
  },
  "language_info": {
   "codemirror_mode": {
    "name": "ipython",
    "version": 3
   },
   "file_extension": ".py",
   "mimetype": "text/x-python",
   "name": "python",
   "nbconvert_exporter": "python",
   "pygments_lexer": "ipython3",
   "version": "3.6.1"
  }
 },
 "nbformat": 4,
 "nbformat_minor": 2
}
